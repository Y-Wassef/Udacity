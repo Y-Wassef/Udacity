{
 "cells": [
  {
   "cell_type": "markdown",
   "metadata": {},
   "source": [
    "# Project: Investigate a Dataset - [No-show Appointments]\n",
    "\n",
    "## Table of Contents\n",
    "<ul>\n",
    "<li><a href=\"#intro\">Introduction</a></li>\n",
    "<li><a href=\"#questions\">Questions for Analysis</a></li> \n",
    "<li><a href=\"#wrangling\">Data Wrangling</a></li>\n",
    "<li><a href=\"#eda\">Exploratory Data Analysis</a></li>\n",
    "<li><a href=\"#conclusions\">Conclusions</a></li>\n",
    "</ul>"
   ]
  },
  {
   "cell_type": "markdown",
   "metadata": {},
   "source": [
    "<a id='intro'></a>\n",
    "## Introduction\n",
    "\n",
    "### Dataset Description \n",
    "This dataset collects information from 100k+ medical appointments in Brazil and is focused on the question of whether or not patients show up for their appointment. The attributed data for each appointment include: \n",
    "<ul><li> Patient's Id, gender and age.\n",
    "<li> The Neighbourhood in which the hospital is located.\n",
    "<li> Whether the patient has some specific medical condition or not (e.g. diabetes).\n",
    "<li> Whether the patient is enrolled in the Bolsa Familia program or not.\n",
    "<li> Whether the patient received an SMS for the appointment or not.\n",
    "</ul>"
   ]
  },
  {
   "cell_type": "markdown",
   "metadata": {},
   "source": [
    "## <a id='questions'></a>Questions for Analysis\n",
    "### <a href=\"#q1\">Question 1</a>\n",
    "What category of patients is most likely to miss an appointment?\n",
    "### <a href=\"#q2\">Question 2</a>\n",
    "Does receiving an SMS increase the likelihood of a patient showing up?\n",
    "### <a href=\"#q3\">Question 3</a>\n",
    "What age group misses the most appointments?\n",
    "### <a href=\"#q4\">Question 4</a>\n",
    "Which neighbourhoods have the most/least attendance rate?"
   ]
  },
  {
   "cell_type": "code",
   "execution_count": 1,
   "metadata": {},
   "outputs": [],
   "source": [
    "import pandas as pd\n",
    "import numpy as np\n",
    "import matplotlib.pyplot as plt\n",
    "%matplotlib inline\n",
    "import seaborn as sns\n",
    "sns.set_style(\"darkgrid\")"
   ]
  },
  {
   "cell_type": "markdown",
   "metadata": {},
   "source": [
    "## <a id='wrangling'></a>Data Wrangling"
   ]
  },
  {
   "cell_type": "code",
   "execution_count": 2,
   "metadata": {
    "scrolled": true
   },
   "outputs": [
    {
     "data": {
      "text/html": [
       "<div>\n",
       "<style scoped>\n",
       "    .dataframe tbody tr th:only-of-type {\n",
       "        vertical-align: middle;\n",
       "    }\n",
       "\n",
       "    .dataframe tbody tr th {\n",
       "        vertical-align: top;\n",
       "    }\n",
       "\n",
       "    .dataframe thead th {\n",
       "        text-align: right;\n",
       "    }\n",
       "</style>\n",
       "<table border=\"1\" class=\"dataframe\">\n",
       "  <thead>\n",
       "    <tr style=\"text-align: right;\">\n",
       "      <th></th>\n",
       "      <th>PatientId</th>\n",
       "      <th>AppointmentID</th>\n",
       "      <th>Gender</th>\n",
       "      <th>ScheduledDay</th>\n",
       "      <th>AppointmentDay</th>\n",
       "      <th>Age</th>\n",
       "      <th>Neighbourhood</th>\n",
       "      <th>Scholarship</th>\n",
       "      <th>Hipertension</th>\n",
       "      <th>Diabetes</th>\n",
       "      <th>Alcoholism</th>\n",
       "      <th>Handcap</th>\n",
       "      <th>SMS_received</th>\n",
       "      <th>No-show</th>\n",
       "    </tr>\n",
       "  </thead>\n",
       "  <tbody>\n",
       "    <tr>\n",
       "      <th>0</th>\n",
       "      <td>2.987250e+13</td>\n",
       "      <td>5642903</td>\n",
       "      <td>F</td>\n",
       "      <td>2016-04-29T18:38:08Z</td>\n",
       "      <td>2016-04-29T00:00:00Z</td>\n",
       "      <td>62</td>\n",
       "      <td>JARDIM DA PENHA</td>\n",
       "      <td>0</td>\n",
       "      <td>1</td>\n",
       "      <td>0</td>\n",
       "      <td>0</td>\n",
       "      <td>0</td>\n",
       "      <td>0</td>\n",
       "      <td>No</td>\n",
       "    </tr>\n",
       "    <tr>\n",
       "      <th>1</th>\n",
       "      <td>5.589978e+14</td>\n",
       "      <td>5642503</td>\n",
       "      <td>M</td>\n",
       "      <td>2016-04-29T16:08:27Z</td>\n",
       "      <td>2016-04-29T00:00:00Z</td>\n",
       "      <td>56</td>\n",
       "      <td>JARDIM DA PENHA</td>\n",
       "      <td>0</td>\n",
       "      <td>0</td>\n",
       "      <td>0</td>\n",
       "      <td>0</td>\n",
       "      <td>0</td>\n",
       "      <td>0</td>\n",
       "      <td>No</td>\n",
       "    </tr>\n",
       "    <tr>\n",
       "      <th>2</th>\n",
       "      <td>4.262962e+12</td>\n",
       "      <td>5642549</td>\n",
       "      <td>F</td>\n",
       "      <td>2016-04-29T16:19:04Z</td>\n",
       "      <td>2016-04-29T00:00:00Z</td>\n",
       "      <td>62</td>\n",
       "      <td>MATA DA PRAIA</td>\n",
       "      <td>0</td>\n",
       "      <td>0</td>\n",
       "      <td>0</td>\n",
       "      <td>0</td>\n",
       "      <td>0</td>\n",
       "      <td>0</td>\n",
       "      <td>No</td>\n",
       "    </tr>\n",
       "    <tr>\n",
       "      <th>3</th>\n",
       "      <td>8.679512e+11</td>\n",
       "      <td>5642828</td>\n",
       "      <td>F</td>\n",
       "      <td>2016-04-29T17:29:31Z</td>\n",
       "      <td>2016-04-29T00:00:00Z</td>\n",
       "      <td>8</td>\n",
       "      <td>PONTAL DE CAMBURI</td>\n",
       "      <td>0</td>\n",
       "      <td>0</td>\n",
       "      <td>0</td>\n",
       "      <td>0</td>\n",
       "      <td>0</td>\n",
       "      <td>0</td>\n",
       "      <td>No</td>\n",
       "    </tr>\n",
       "    <tr>\n",
       "      <th>4</th>\n",
       "      <td>8.841186e+12</td>\n",
       "      <td>5642494</td>\n",
       "      <td>F</td>\n",
       "      <td>2016-04-29T16:07:23Z</td>\n",
       "      <td>2016-04-29T00:00:00Z</td>\n",
       "      <td>56</td>\n",
       "      <td>JARDIM DA PENHA</td>\n",
       "      <td>0</td>\n",
       "      <td>1</td>\n",
       "      <td>1</td>\n",
       "      <td>0</td>\n",
       "      <td>0</td>\n",
       "      <td>0</td>\n",
       "      <td>No</td>\n",
       "    </tr>\n",
       "  </tbody>\n",
       "</table>\n",
       "</div>"
      ],
      "text/plain": [
       "      PatientId  AppointmentID Gender          ScheduledDay  \\\n",
       "0  2.987250e+13        5642903      F  2016-04-29T18:38:08Z   \n",
       "1  5.589978e+14        5642503      M  2016-04-29T16:08:27Z   \n",
       "2  4.262962e+12        5642549      F  2016-04-29T16:19:04Z   \n",
       "3  8.679512e+11        5642828      F  2016-04-29T17:29:31Z   \n",
       "4  8.841186e+12        5642494      F  2016-04-29T16:07:23Z   \n",
       "\n",
       "         AppointmentDay  Age      Neighbourhood  Scholarship  Hipertension  \\\n",
       "0  2016-04-29T00:00:00Z   62    JARDIM DA PENHA            0             1   \n",
       "1  2016-04-29T00:00:00Z   56    JARDIM DA PENHA            0             0   \n",
       "2  2016-04-29T00:00:00Z   62      MATA DA PRAIA            0             0   \n",
       "3  2016-04-29T00:00:00Z    8  PONTAL DE CAMBURI            0             0   \n",
       "4  2016-04-29T00:00:00Z   56    JARDIM DA PENHA            0             1   \n",
       "\n",
       "   Diabetes  Alcoholism  Handcap  SMS_received No-show  \n",
       "0         0           0        0             0      No  \n",
       "1         0           0        0             0      No  \n",
       "2         0           0        0             0      No  \n",
       "3         0           0        0             0      No  \n",
       "4         1           0        0             0      No  "
      ]
     },
     "execution_count": 2,
     "metadata": {},
     "output_type": "execute_result"
    }
   ],
   "source": [
    "file_path = 'Database_No_show_appointments/noshowappointments-kagglev2-may-2016.csv'\n",
    "df = pd.read_csv(file_path)\n",
    "df.head()"
   ]
  },
  {
   "cell_type": "code",
   "execution_count": 3,
   "metadata": {},
   "outputs": [
    {
     "data": {
      "text/plain": [
       "(110527, 14)"
      ]
     },
     "execution_count": 3,
     "metadata": {},
     "output_type": "execute_result"
    }
   ],
   "source": [
    "df.shape"
   ]
  },
  {
   "cell_type": "code",
   "execution_count": 4,
   "metadata": {
    "scrolled": true
   },
   "outputs": [
    {
     "data": {
      "text/plain": [
       "62299"
      ]
     },
     "execution_count": 4,
     "metadata": {},
     "output_type": "execute_result"
    }
   ],
   "source": [
    "df.PatientId.unique().shape[0]"
   ]
  },
  {
   "cell_type": "code",
   "execution_count": 5,
   "metadata": {},
   "outputs": [
    {
     "data": {
      "text/plain": [
       "81"
      ]
     },
     "execution_count": 5,
     "metadata": {},
     "output_type": "execute_result"
    }
   ],
   "source": [
    "df.Neighbourhood.unique().shape[0]"
   ]
  },
  {
   "cell_type": "markdown",
   "metadata": {},
   "source": [
    "## Data Cleaning"
   ]
  },
  {
   "cell_type": "code",
   "execution_count": 6,
   "metadata": {},
   "outputs": [
    {
     "data": {
      "text/plain": [
       "No     88208\n",
       "Yes    22319\n",
       "Name: No-show, dtype: int64"
      ]
     },
     "execution_count": 6,
     "metadata": {},
     "output_type": "execute_result"
    }
   ],
   "source": [
    "df['No-show'].value_counts()"
   ]
  },
  {
   "cell_type": "markdown",
   "metadata": {},
   "source": [
    "The whole No-show column convention is kinda confusing...\n",
    "\n",
    "I will create a new column **'Attended'** with boolean values(True or False). In this column, a **No-show**'s (Yes) maps to **Attended**'s (False) and vice-versa."
   ]
  },
  {
   "cell_type": "code",
   "execution_count": 7,
   "metadata": {
    "scrolled": true
   },
   "outputs": [
    {
     "data": {
      "text/plain": [
       "Index(['PatientId', 'AppointmentID', 'Gender', 'ScheduledDay',\n",
       "       'AppointmentDay', 'Age', 'Neighbourhood', 'Scholarship', 'Hipertension',\n",
       "       'Diabetes', 'Alcoholism', 'Handcap', 'SMS_received', 'Attended'],\n",
       "      dtype='object')"
      ]
     },
     "execution_count": 7,
     "metadata": {},
     "output_type": "execute_result"
    }
   ],
   "source": [
    "df['No-show'].replace(['No','Yes'],[True,False], inplace=True) \n",
    "df.rename(columns = {'No-show' : 'Attended'},inplace=True)\n",
    "df.columns"
   ]
  },
  {
   "cell_type": "code",
   "execution_count": 8,
   "metadata": {},
   "outputs": [
    {
     "data": {
      "text/plain": [
       "True     88208\n",
       "False    22319\n",
       "Name: Attended, dtype: int64"
      ]
     },
     "execution_count": 8,
     "metadata": {},
     "output_type": "execute_result"
    }
   ],
   "source": [
    "df['Attended'].astype(bool)\n",
    "df['Attended'].value_counts()"
   ]
  },
  {
   "cell_type": "code",
   "execution_count": 9,
   "metadata": {},
   "outputs": [
    {
     "data": {
      "text/plain": [
       "False    99666\n",
       "True     10861\n",
       "Name: Scholarship, dtype: int64"
      ]
     },
     "execution_count": 9,
     "metadata": {},
     "output_type": "execute_result"
    }
   ],
   "source": [
    "df['Scholarship'].replace([1,0],[True,False], inplace=True)\n",
    "df['Scholarship'].astype(bool)\n",
    "df['Scholarship'].value_counts()"
   ]
  },
  {
   "cell_type": "code",
   "execution_count": 10,
   "metadata": {},
   "outputs": [
    {
     "data": {
      "text/plain": [
       "False    75045\n",
       "True     35482\n",
       "Name: SMS_received, dtype: int64"
      ]
     },
     "execution_count": 10,
     "metadata": {},
     "output_type": "execute_result"
    }
   ],
   "source": [
    "df['SMS_received'].replace([1,0],[True,False], inplace=True)\n",
    "df['SMS_received'].astype(bool)\n",
    "df['SMS_received'].value_counts()"
   ]
  },
  {
   "cell_type": "markdown",
   "metadata": {},
   "source": [
    "The data for **dates** can potentially be used in the analysis but they won't serve me answering the questions I'm basing my analysis on. \n",
    "\n",
    "What I'll do next is getting an idea about the time span of the data set. Afterwards, the date columns will be removed."
   ]
  },
  {
   "cell_type": "code",
   "execution_count": 11,
   "metadata": {
    "scrolled": true
   },
   "outputs": [
    {
     "data": {
      "text/plain": [
       "array([4, 5, 6])"
      ]
     },
     "execution_count": 11,
     "metadata": {},
     "output_type": "execute_result"
    }
   ],
   "source": [
    "df['day'] = pd.to_datetime(df.AppointmentDay)\n",
    "df['month'] = df['day'].dt.month\n",
    "df.month.unique()"
   ]
  },
  {
   "cell_type": "code",
   "execution_count": 12,
   "metadata": {},
   "outputs": [
    {
     "data": {
      "text/plain": [
       "0.731414043627349"
      ]
     },
     "execution_count": 12,
     "metadata": {},
     "output_type": "execute_result"
    }
   ],
   "source": [
    "df.query('month == 5').shape[0]/df.shape[0]"
   ]
  },
  {
   "cell_type": "markdown",
   "metadata": {},
   "source": [
    "73% of the data is gathered over the span of a month, namely May of 2016, with the rest of the data during late April and early June."
   ]
  },
  {
   "cell_type": "code",
   "execution_count": 13,
   "metadata": {},
   "outputs": [],
   "source": [
    "#Removing date columns\n",
    "df.drop(columns = ['ScheduledDay' , 'AppointmentDay', 'day' , 'month'], inplace=True)"
   ]
  },
  {
   "cell_type": "code",
   "execution_count": 14,
   "metadata": {
    "scrolled": true
   },
   "outputs": [
    {
     "name": "stdout",
     "output_type": "stream",
     "text": [
      "<class 'pandas.core.frame.DataFrame'>\n",
      "RangeIndex: 110527 entries, 0 to 110526\n",
      "Data columns (total 12 columns):\n",
      "PatientId        110527 non-null float64\n",
      "AppointmentID    110527 non-null int64\n",
      "Gender           110527 non-null object\n",
      "Age              110527 non-null int64\n",
      "Neighbourhood    110527 non-null object\n",
      "Scholarship      110527 non-null bool\n",
      "Hipertension     110527 non-null int64\n",
      "Diabetes         110527 non-null int64\n",
      "Alcoholism       110527 non-null int64\n",
      "Handcap          110527 non-null int64\n",
      "SMS_received     110527 non-null bool\n",
      "Attended         110527 non-null bool\n",
      "dtypes: bool(3), float64(1), int64(6), object(2)\n",
      "memory usage: 7.9+ MB\n"
     ]
    }
   ],
   "source": [
    "df.info() "
   ]
  },
  {
   "cell_type": "code",
   "execution_count": 15,
   "metadata": {
    "scrolled": true
   },
   "outputs": [
    {
     "data": {
      "text/plain": [
       "0"
      ]
     },
     "execution_count": 15,
     "metadata": {},
     "output_type": "execute_result"
    }
   ],
   "source": [
    "df.duplicated().sum()"
   ]
  },
  {
   "cell_type": "markdown",
   "metadata": {},
   "source": [
    "Looks like there is no missing values or duplicates. Great!"
   ]
  },
  {
   "cell_type": "code",
   "execution_count": 16,
   "metadata": {
    "scrolled": true
   },
   "outputs": [
    {
     "data": {
      "text/html": [
       "<div>\n",
       "<style scoped>\n",
       "    .dataframe tbody tr th:only-of-type {\n",
       "        vertical-align: middle;\n",
       "    }\n",
       "\n",
       "    .dataframe tbody tr th {\n",
       "        vertical-align: top;\n",
       "    }\n",
       "\n",
       "    .dataframe thead th {\n",
       "        text-align: right;\n",
       "    }\n",
       "</style>\n",
       "<table border=\"1\" class=\"dataframe\">\n",
       "  <thead>\n",
       "    <tr style=\"text-align: right;\">\n",
       "      <th></th>\n",
       "      <th>PatientId</th>\n",
       "      <th>AppointmentID</th>\n",
       "      <th>Age</th>\n",
       "      <th>Hipertension</th>\n",
       "      <th>Diabetes</th>\n",
       "      <th>Alcoholism</th>\n",
       "      <th>Handcap</th>\n",
       "    </tr>\n",
       "  </thead>\n",
       "  <tbody>\n",
       "    <tr>\n",
       "      <th>count</th>\n",
       "      <td>1.105270e+05</td>\n",
       "      <td>1.105270e+05</td>\n",
       "      <td>110527.000000</td>\n",
       "      <td>110527.000000</td>\n",
       "      <td>110527.000000</td>\n",
       "      <td>110527.000000</td>\n",
       "      <td>110527.000000</td>\n",
       "    </tr>\n",
       "    <tr>\n",
       "      <th>mean</th>\n",
       "      <td>1.474963e+14</td>\n",
       "      <td>5.675305e+06</td>\n",
       "      <td>37.088874</td>\n",
       "      <td>0.197246</td>\n",
       "      <td>0.071865</td>\n",
       "      <td>0.030400</td>\n",
       "      <td>0.022248</td>\n",
       "    </tr>\n",
       "    <tr>\n",
       "      <th>std</th>\n",
       "      <td>2.560949e+14</td>\n",
       "      <td>7.129575e+04</td>\n",
       "      <td>23.110205</td>\n",
       "      <td>0.397921</td>\n",
       "      <td>0.258265</td>\n",
       "      <td>0.171686</td>\n",
       "      <td>0.161543</td>\n",
       "    </tr>\n",
       "    <tr>\n",
       "      <th>min</th>\n",
       "      <td>3.921784e+04</td>\n",
       "      <td>5.030230e+06</td>\n",
       "      <td>-1.000000</td>\n",
       "      <td>0.000000</td>\n",
       "      <td>0.000000</td>\n",
       "      <td>0.000000</td>\n",
       "      <td>0.000000</td>\n",
       "    </tr>\n",
       "    <tr>\n",
       "      <th>25%</th>\n",
       "      <td>4.172614e+12</td>\n",
       "      <td>5.640286e+06</td>\n",
       "      <td>18.000000</td>\n",
       "      <td>0.000000</td>\n",
       "      <td>0.000000</td>\n",
       "      <td>0.000000</td>\n",
       "      <td>0.000000</td>\n",
       "    </tr>\n",
       "    <tr>\n",
       "      <th>50%</th>\n",
       "      <td>3.173184e+13</td>\n",
       "      <td>5.680573e+06</td>\n",
       "      <td>37.000000</td>\n",
       "      <td>0.000000</td>\n",
       "      <td>0.000000</td>\n",
       "      <td>0.000000</td>\n",
       "      <td>0.000000</td>\n",
       "    </tr>\n",
       "    <tr>\n",
       "      <th>75%</th>\n",
       "      <td>9.439172e+13</td>\n",
       "      <td>5.725524e+06</td>\n",
       "      <td>55.000000</td>\n",
       "      <td>0.000000</td>\n",
       "      <td>0.000000</td>\n",
       "      <td>0.000000</td>\n",
       "      <td>0.000000</td>\n",
       "    </tr>\n",
       "    <tr>\n",
       "      <th>max</th>\n",
       "      <td>9.999816e+14</td>\n",
       "      <td>5.790484e+06</td>\n",
       "      <td>115.000000</td>\n",
       "      <td>1.000000</td>\n",
       "      <td>1.000000</td>\n",
       "      <td>1.000000</td>\n",
       "      <td>4.000000</td>\n",
       "    </tr>\n",
       "  </tbody>\n",
       "</table>\n",
       "</div>"
      ],
      "text/plain": [
       "          PatientId  AppointmentID            Age   Hipertension  \\\n",
       "count  1.105270e+05   1.105270e+05  110527.000000  110527.000000   \n",
       "mean   1.474963e+14   5.675305e+06      37.088874       0.197246   \n",
       "std    2.560949e+14   7.129575e+04      23.110205       0.397921   \n",
       "min    3.921784e+04   5.030230e+06      -1.000000       0.000000   \n",
       "25%    4.172614e+12   5.640286e+06      18.000000       0.000000   \n",
       "50%    3.173184e+13   5.680573e+06      37.000000       0.000000   \n",
       "75%    9.439172e+13   5.725524e+06      55.000000       0.000000   \n",
       "max    9.999816e+14   5.790484e+06     115.000000       1.000000   \n",
       "\n",
       "            Diabetes     Alcoholism        Handcap  \n",
       "count  110527.000000  110527.000000  110527.000000  \n",
       "mean        0.071865       0.030400       0.022248  \n",
       "std         0.258265       0.171686       0.161543  \n",
       "min         0.000000       0.000000       0.000000  \n",
       "25%         0.000000       0.000000       0.000000  \n",
       "50%         0.000000       0.000000       0.000000  \n",
       "75%         0.000000       0.000000       0.000000  \n",
       "max         1.000000       1.000000       4.000000  "
      ]
     },
     "execution_count": 16,
     "metadata": {},
     "output_type": "execute_result"
    }
   ],
   "source": [
    "df.describe()"
   ]
  },
  {
   "cell_type": "code",
   "execution_count": 17,
   "metadata": {},
   "outputs": [
    {
     "data": {
      "text/plain": [
       "199"
      ]
     },
     "execution_count": 17,
     "metadata": {},
     "output_type": "execute_result"
    }
   ],
   "source": [
    "df.query('Handcap != 1').query('Handcap != 0').shape[0]"
   ]
  },
  {
   "cell_type": "markdown",
   "metadata": {},
   "source": [
    "Wow! Someone's age is entered as -1 (which kinda makes me doubt the integrity of the whole dataset).\n",
    "\n",
    "There is also 199 entries where handicap is neither 1 or 0 (goes up to 4).\n",
    "I am going to assume that these other values represent a [True] and replace them with 1.\n",
    "\n",
    "In the next steps I am going to remove the entry with age -1 and fix the consistency of the 'Handcap' column.\n"
   ]
  },
  {
   "cell_type": "code",
   "execution_count": 18,
   "metadata": {
    "scrolled": true
   },
   "outputs": [
    {
     "data": {
      "text/html": [
       "<div>\n",
       "<style scoped>\n",
       "    .dataframe tbody tr th:only-of-type {\n",
       "        vertical-align: middle;\n",
       "    }\n",
       "\n",
       "    .dataframe tbody tr th {\n",
       "        vertical-align: top;\n",
       "    }\n",
       "\n",
       "    .dataframe thead th {\n",
       "        text-align: right;\n",
       "    }\n",
       "</style>\n",
       "<table border=\"1\" class=\"dataframe\">\n",
       "  <thead>\n",
       "    <tr style=\"text-align: right;\">\n",
       "      <th></th>\n",
       "      <th>PatientId</th>\n",
       "      <th>AppointmentID</th>\n",
       "      <th>Gender</th>\n",
       "      <th>Age</th>\n",
       "      <th>Neighbourhood</th>\n",
       "      <th>Scholarship</th>\n",
       "      <th>Hipertension</th>\n",
       "      <th>Diabetes</th>\n",
       "      <th>Alcoholism</th>\n",
       "      <th>Handcap</th>\n",
       "      <th>SMS_received</th>\n",
       "      <th>Attended</th>\n",
       "    </tr>\n",
       "  </thead>\n",
       "  <tbody>\n",
       "    <tr>\n",
       "      <th>99832</th>\n",
       "      <td>4.659432e+14</td>\n",
       "      <td>5775010</td>\n",
       "      <td>F</td>\n",
       "      <td>-1</td>\n",
       "      <td>ROMÃO</td>\n",
       "      <td>False</td>\n",
       "      <td>0</td>\n",
       "      <td>0</td>\n",
       "      <td>0</td>\n",
       "      <td>0</td>\n",
       "      <td>False</td>\n",
       "      <td>True</td>\n",
       "    </tr>\n",
       "  </tbody>\n",
       "</table>\n",
       "</div>"
      ],
      "text/plain": [
       "          PatientId  AppointmentID Gender  Age Neighbourhood  Scholarship  \\\n",
       "99832  4.659432e+14        5775010      F   -1         ROMÃO        False   \n",
       "\n",
       "       Hipertension  Diabetes  Alcoholism  Handcap  SMS_received  Attended  \n",
       "99832             0         0           0        0         False      True  "
      ]
     },
     "execution_count": 18,
     "metadata": {},
     "output_type": "execute_result"
    }
   ],
   "source": [
    "df.query('Age == -1')\n",
    "# Locating the index of the weird age of -1 entry"
   ]
  },
  {
   "cell_type": "code",
   "execution_count": 19,
   "metadata": {
    "scrolled": true
   },
   "outputs": [
    {
     "data": {
      "text/html": [
       "<div>\n",
       "<style scoped>\n",
       "    .dataframe tbody tr th:only-of-type {\n",
       "        vertical-align: middle;\n",
       "    }\n",
       "\n",
       "    .dataframe tbody tr th {\n",
       "        vertical-align: top;\n",
       "    }\n",
       "\n",
       "    .dataframe thead th {\n",
       "        text-align: right;\n",
       "    }\n",
       "</style>\n",
       "<table border=\"1\" class=\"dataframe\">\n",
       "  <thead>\n",
       "    <tr style=\"text-align: right;\">\n",
       "      <th></th>\n",
       "      <th>PatientId</th>\n",
       "      <th>AppointmentID</th>\n",
       "      <th>Gender</th>\n",
       "      <th>Age</th>\n",
       "      <th>Neighbourhood</th>\n",
       "      <th>Scholarship</th>\n",
       "      <th>Hipertension</th>\n",
       "      <th>Diabetes</th>\n",
       "      <th>Alcoholism</th>\n",
       "      <th>Handcap</th>\n",
       "      <th>SMS_received</th>\n",
       "      <th>Attended</th>\n",
       "    </tr>\n",
       "  </thead>\n",
       "  <tbody>\n",
       "  </tbody>\n",
       "</table>\n",
       "</div>"
      ],
      "text/plain": [
       "Empty DataFrame\n",
       "Columns: [PatientId, AppointmentID, Gender, Age, Neighbourhood, Scholarship, Hipertension, Diabetes, Alcoholism, Handcap, SMS_received, Attended]\n",
       "Index: []"
      ]
     },
     "execution_count": 19,
     "metadata": {},
     "output_type": "execute_result"
    }
   ],
   "source": [
    "df.drop([99832],axis = 0,inplace=True)\n",
    "df.query('Age == -1') #checking"
   ]
  },
  {
   "cell_type": "code",
   "execution_count": 20,
   "metadata": {},
   "outputs": [
    {
     "data": {
      "text/plain": [
       "0"
      ]
     },
     "execution_count": 20,
     "metadata": {},
     "output_type": "execute_result"
    }
   ],
   "source": [
    "df['Handcap'].replace([2, 3, 4], 0, inplace=True)\n",
    "df.query('Handcap != 1').query('Handcap != 0').shape[0] #checking"
   ]
  },
  {
   "cell_type": "markdown",
   "metadata": {},
   "source": [
    "\n",
    "## <a id='eda'></a>Exploratory Data Analysis\n"
   ]
  },
  {
   "cell_type": "markdown",
   "metadata": {},
   "source": [
    "Let's see how many unique patients we have:"
   ]
  },
  {
   "cell_type": "code",
   "execution_count": 21,
   "metadata": {},
   "outputs": [
    {
     "data": {
      "text/plain": [
       "62298"
      ]
     },
     "execution_count": 21,
     "metadata": {},
     "output_type": "execute_result"
    }
   ],
   "source": [
    "df.PatientId.nunique()"
   ]
  },
  {
   "cell_type": "code",
   "execution_count": 22,
   "metadata": {},
   "outputs": [
    {
     "data": {
      "text/html": [
       "<div>\n",
       "<style scoped>\n",
       "    .dataframe tbody tr th:only-of-type {\n",
       "        vertical-align: middle;\n",
       "    }\n",
       "\n",
       "    .dataframe tbody tr th {\n",
       "        vertical-align: top;\n",
       "    }\n",
       "\n",
       "    .dataframe thead th {\n",
       "        text-align: right;\n",
       "    }\n",
       "</style>\n",
       "<table border=\"1\" class=\"dataframe\">\n",
       "  <thead>\n",
       "    <tr style=\"text-align: right;\">\n",
       "      <th></th>\n",
       "      <th>PatientId</th>\n",
       "      <th>AppointmentID</th>\n",
       "      <th>Gender</th>\n",
       "      <th>Age</th>\n",
       "      <th>Neighbourhood</th>\n",
       "      <th>Scholarship</th>\n",
       "      <th>Hipertension</th>\n",
       "      <th>Diabetes</th>\n",
       "      <th>Alcoholism</th>\n",
       "      <th>Handcap</th>\n",
       "      <th>SMS_received</th>\n",
       "      <th>Attended</th>\n",
       "    </tr>\n",
       "  </thead>\n",
       "  <tbody>\n",
       "    <tr>\n",
       "      <th>0</th>\n",
       "      <td>2.987250e+13</td>\n",
       "      <td>5642903</td>\n",
       "      <td>F</td>\n",
       "      <td>62</td>\n",
       "      <td>JARDIM DA PENHA</td>\n",
       "      <td>False</td>\n",
       "      <td>1</td>\n",
       "      <td>0</td>\n",
       "      <td>0</td>\n",
       "      <td>0</td>\n",
       "      <td>False</td>\n",
       "      <td>True</td>\n",
       "    </tr>\n",
       "    <tr>\n",
       "      <th>1</th>\n",
       "      <td>5.589978e+14</td>\n",
       "      <td>5642503</td>\n",
       "      <td>M</td>\n",
       "      <td>56</td>\n",
       "      <td>JARDIM DA PENHA</td>\n",
       "      <td>False</td>\n",
       "      <td>0</td>\n",
       "      <td>0</td>\n",
       "      <td>0</td>\n",
       "      <td>0</td>\n",
       "      <td>False</td>\n",
       "      <td>True</td>\n",
       "    </tr>\n",
       "    <tr>\n",
       "      <th>2</th>\n",
       "      <td>4.262962e+12</td>\n",
       "      <td>5642549</td>\n",
       "      <td>F</td>\n",
       "      <td>62</td>\n",
       "      <td>MATA DA PRAIA</td>\n",
       "      <td>False</td>\n",
       "      <td>0</td>\n",
       "      <td>0</td>\n",
       "      <td>0</td>\n",
       "      <td>0</td>\n",
       "      <td>False</td>\n",
       "      <td>True</td>\n",
       "    </tr>\n",
       "    <tr>\n",
       "      <th>3</th>\n",
       "      <td>8.679512e+11</td>\n",
       "      <td>5642828</td>\n",
       "      <td>F</td>\n",
       "      <td>8</td>\n",
       "      <td>PONTAL DE CAMBURI</td>\n",
       "      <td>False</td>\n",
       "      <td>0</td>\n",
       "      <td>0</td>\n",
       "      <td>0</td>\n",
       "      <td>0</td>\n",
       "      <td>False</td>\n",
       "      <td>True</td>\n",
       "    </tr>\n",
       "    <tr>\n",
       "      <th>4</th>\n",
       "      <td>8.841186e+12</td>\n",
       "      <td>5642494</td>\n",
       "      <td>F</td>\n",
       "      <td>56</td>\n",
       "      <td>JARDIM DA PENHA</td>\n",
       "      <td>False</td>\n",
       "      <td>1</td>\n",
       "      <td>1</td>\n",
       "      <td>0</td>\n",
       "      <td>0</td>\n",
       "      <td>False</td>\n",
       "      <td>True</td>\n",
       "    </tr>\n",
       "    <tr>\n",
       "      <th>5</th>\n",
       "      <td>9.598513e+13</td>\n",
       "      <td>5626772</td>\n",
       "      <td>F</td>\n",
       "      <td>76</td>\n",
       "      <td>REPÚBLICA</td>\n",
       "      <td>False</td>\n",
       "      <td>1</td>\n",
       "      <td>0</td>\n",
       "      <td>0</td>\n",
       "      <td>0</td>\n",
       "      <td>False</td>\n",
       "      <td>True</td>\n",
       "    </tr>\n",
       "    <tr>\n",
       "      <th>6</th>\n",
       "      <td>7.336882e+14</td>\n",
       "      <td>5630279</td>\n",
       "      <td>F</td>\n",
       "      <td>23</td>\n",
       "      <td>GOIABEIRAS</td>\n",
       "      <td>False</td>\n",
       "      <td>0</td>\n",
       "      <td>0</td>\n",
       "      <td>0</td>\n",
       "      <td>0</td>\n",
       "      <td>False</td>\n",
       "      <td>False</td>\n",
       "    </tr>\n",
       "    <tr>\n",
       "      <th>7</th>\n",
       "      <td>3.449833e+12</td>\n",
       "      <td>5630575</td>\n",
       "      <td>F</td>\n",
       "      <td>39</td>\n",
       "      <td>GOIABEIRAS</td>\n",
       "      <td>False</td>\n",
       "      <td>0</td>\n",
       "      <td>0</td>\n",
       "      <td>0</td>\n",
       "      <td>0</td>\n",
       "      <td>False</td>\n",
       "      <td>False</td>\n",
       "    </tr>\n",
       "    <tr>\n",
       "      <th>8</th>\n",
       "      <td>5.639473e+13</td>\n",
       "      <td>5638447</td>\n",
       "      <td>F</td>\n",
       "      <td>21</td>\n",
       "      <td>ANDORINHAS</td>\n",
       "      <td>False</td>\n",
       "      <td>0</td>\n",
       "      <td>0</td>\n",
       "      <td>0</td>\n",
       "      <td>0</td>\n",
       "      <td>False</td>\n",
       "      <td>True</td>\n",
       "    </tr>\n",
       "    <tr>\n",
       "      <th>9</th>\n",
       "      <td>7.812456e+13</td>\n",
       "      <td>5629123</td>\n",
       "      <td>F</td>\n",
       "      <td>19</td>\n",
       "      <td>CONQUISTA</td>\n",
       "      <td>False</td>\n",
       "      <td>0</td>\n",
       "      <td>0</td>\n",
       "      <td>0</td>\n",
       "      <td>0</td>\n",
       "      <td>False</td>\n",
       "      <td>True</td>\n",
       "    </tr>\n",
       "    <tr>\n",
       "      <th>10</th>\n",
       "      <td>7.345362e+14</td>\n",
       "      <td>5630213</td>\n",
       "      <td>F</td>\n",
       "      <td>30</td>\n",
       "      <td>NOVA PALESTINA</td>\n",
       "      <td>False</td>\n",
       "      <td>0</td>\n",
       "      <td>0</td>\n",
       "      <td>0</td>\n",
       "      <td>0</td>\n",
       "      <td>False</td>\n",
       "      <td>True</td>\n",
       "    </tr>\n",
       "    <tr>\n",
       "      <th>11</th>\n",
       "      <td>7.542951e+12</td>\n",
       "      <td>5620163</td>\n",
       "      <td>M</td>\n",
       "      <td>29</td>\n",
       "      <td>NOVA PALESTINA</td>\n",
       "      <td>False</td>\n",
       "      <td>0</td>\n",
       "      <td>0</td>\n",
       "      <td>0</td>\n",
       "      <td>0</td>\n",
       "      <td>True</td>\n",
       "      <td>False</td>\n",
       "    </tr>\n",
       "    <tr>\n",
       "      <th>12</th>\n",
       "      <td>5.666548e+14</td>\n",
       "      <td>5634718</td>\n",
       "      <td>F</td>\n",
       "      <td>22</td>\n",
       "      <td>NOVA PALESTINA</td>\n",
       "      <td>True</td>\n",
       "      <td>0</td>\n",
       "      <td>0</td>\n",
       "      <td>0</td>\n",
       "      <td>0</td>\n",
       "      <td>False</td>\n",
       "      <td>True</td>\n",
       "    </tr>\n",
       "    <tr>\n",
       "      <th>13</th>\n",
       "      <td>9.113946e+14</td>\n",
       "      <td>5636249</td>\n",
       "      <td>M</td>\n",
       "      <td>28</td>\n",
       "      <td>NOVA PALESTINA</td>\n",
       "      <td>False</td>\n",
       "      <td>0</td>\n",
       "      <td>0</td>\n",
       "      <td>0</td>\n",
       "      <td>0</td>\n",
       "      <td>False</td>\n",
       "      <td>True</td>\n",
       "    </tr>\n",
       "    <tr>\n",
       "      <th>14</th>\n",
       "      <td>9.988472e+13</td>\n",
       "      <td>5633951</td>\n",
       "      <td>F</td>\n",
       "      <td>54</td>\n",
       "      <td>NOVA PALESTINA</td>\n",
       "      <td>False</td>\n",
       "      <td>0</td>\n",
       "      <td>0</td>\n",
       "      <td>0</td>\n",
       "      <td>0</td>\n",
       "      <td>False</td>\n",
       "      <td>True</td>\n",
       "    </tr>\n",
       "    <tr>\n",
       "      <th>15</th>\n",
       "      <td>9.994839e+10</td>\n",
       "      <td>5620206</td>\n",
       "      <td>F</td>\n",
       "      <td>15</td>\n",
       "      <td>NOVA PALESTINA</td>\n",
       "      <td>False</td>\n",
       "      <td>0</td>\n",
       "      <td>0</td>\n",
       "      <td>0</td>\n",
       "      <td>0</td>\n",
       "      <td>True</td>\n",
       "      <td>True</td>\n",
       "    </tr>\n",
       "    <tr>\n",
       "      <th>16</th>\n",
       "      <td>8.457439e+13</td>\n",
       "      <td>5633121</td>\n",
       "      <td>M</td>\n",
       "      <td>50</td>\n",
       "      <td>NOVA PALESTINA</td>\n",
       "      <td>False</td>\n",
       "      <td>0</td>\n",
       "      <td>0</td>\n",
       "      <td>0</td>\n",
       "      <td>0</td>\n",
       "      <td>False</td>\n",
       "      <td>True</td>\n",
       "    </tr>\n",
       "    <tr>\n",
       "      <th>17</th>\n",
       "      <td>1.479497e+13</td>\n",
       "      <td>5633460</td>\n",
       "      <td>F</td>\n",
       "      <td>40</td>\n",
       "      <td>CONQUISTA</td>\n",
       "      <td>True</td>\n",
       "      <td>0</td>\n",
       "      <td>0</td>\n",
       "      <td>0</td>\n",
       "      <td>0</td>\n",
       "      <td>False</td>\n",
       "      <td>False</td>\n",
       "    </tr>\n",
       "    <tr>\n",
       "      <th>18</th>\n",
       "      <td>1.713538e+13</td>\n",
       "      <td>5621836</td>\n",
       "      <td>F</td>\n",
       "      <td>30</td>\n",
       "      <td>NOVA PALESTINA</td>\n",
       "      <td>True</td>\n",
       "      <td>0</td>\n",
       "      <td>0</td>\n",
       "      <td>0</td>\n",
       "      <td>0</td>\n",
       "      <td>True</td>\n",
       "      <td>True</td>\n",
       "    </tr>\n",
       "    <tr>\n",
       "      <th>19</th>\n",
       "      <td>7.223289e+12</td>\n",
       "      <td>5640433</td>\n",
       "      <td>F</td>\n",
       "      <td>46</td>\n",
       "      <td>DA PENHA</td>\n",
       "      <td>False</td>\n",
       "      <td>0</td>\n",
       "      <td>0</td>\n",
       "      <td>0</td>\n",
       "      <td>0</td>\n",
       "      <td>False</td>\n",
       "      <td>True</td>\n",
       "    </tr>\n",
       "  </tbody>\n",
       "</table>\n",
       "</div>"
      ],
      "text/plain": [
       "       PatientId  AppointmentID Gender  Age      Neighbourhood  Scholarship  \\\n",
       "0   2.987250e+13        5642903      F   62    JARDIM DA PENHA        False   \n",
       "1   5.589978e+14        5642503      M   56    JARDIM DA PENHA        False   \n",
       "2   4.262962e+12        5642549      F   62      MATA DA PRAIA        False   \n",
       "3   8.679512e+11        5642828      F    8  PONTAL DE CAMBURI        False   \n",
       "4   8.841186e+12        5642494      F   56    JARDIM DA PENHA        False   \n",
       "5   9.598513e+13        5626772      F   76          REPÚBLICA        False   \n",
       "6   7.336882e+14        5630279      F   23         GOIABEIRAS        False   \n",
       "7   3.449833e+12        5630575      F   39         GOIABEIRAS        False   \n",
       "8   5.639473e+13        5638447      F   21         ANDORINHAS        False   \n",
       "9   7.812456e+13        5629123      F   19          CONQUISTA        False   \n",
       "10  7.345362e+14        5630213      F   30     NOVA PALESTINA        False   \n",
       "11  7.542951e+12        5620163      M   29     NOVA PALESTINA        False   \n",
       "12  5.666548e+14        5634718      F   22     NOVA PALESTINA         True   \n",
       "13  9.113946e+14        5636249      M   28     NOVA PALESTINA        False   \n",
       "14  9.988472e+13        5633951      F   54     NOVA PALESTINA        False   \n",
       "15  9.994839e+10        5620206      F   15     NOVA PALESTINA        False   \n",
       "16  8.457439e+13        5633121      M   50     NOVA PALESTINA        False   \n",
       "17  1.479497e+13        5633460      F   40          CONQUISTA         True   \n",
       "18  1.713538e+13        5621836      F   30     NOVA PALESTINA         True   \n",
       "19  7.223289e+12        5640433      F   46           DA PENHA        False   \n",
       "\n",
       "    Hipertension  Diabetes  Alcoholism  Handcap  SMS_received  Attended  \n",
       "0              1         0           0        0         False      True  \n",
       "1              0         0           0        0         False      True  \n",
       "2              0         0           0        0         False      True  \n",
       "3              0         0           0        0         False      True  \n",
       "4              1         1           0        0         False      True  \n",
       "5              1         0           0        0         False      True  \n",
       "6              0         0           0        0         False     False  \n",
       "7              0         0           0        0         False     False  \n",
       "8              0         0           0        0         False      True  \n",
       "9              0         0           0        0         False      True  \n",
       "10             0         0           0        0         False      True  \n",
       "11             0         0           0        0          True     False  \n",
       "12             0         0           0        0         False      True  \n",
       "13             0         0           0        0         False      True  \n",
       "14             0         0           0        0         False      True  \n",
       "15             0         0           0        0          True      True  \n",
       "16             0         0           0        0         False      True  \n",
       "17             0         0           0        0         False     False  \n",
       "18             0         0           0        0          True      True  \n",
       "19             0         0           0        0         False      True  "
      ]
     },
     "execution_count": 22,
     "metadata": {},
     "output_type": "execute_result"
    }
   ],
   "source": [
    "unique_index = df[['PatientId']].drop_duplicates().index\n",
    "df_unique = df.loc[unique_index]\n",
    "df_unique.head(20)"
   ]
  },
  {
   "cell_type": "markdown",
   "metadata": {},
   "source": [
    "Let's quickly explore the proportions of genders - male and female."
   ]
  },
  {
   "cell_type": "code",
   "execution_count": 23,
   "metadata": {},
   "outputs": [
    {
     "data": {
      "text/plain": [
       "Gender\n",
       "F    40045\n",
       "M    22253\n",
       "Name: AppointmentID, dtype: int64"
      ]
     },
     "execution_count": 23,
     "metadata": {},
     "output_type": "execute_result"
    }
   ],
   "source": [
    "data = df_unique.groupby('Gender').count()['AppointmentID']\n",
    "data"
   ]
  },
  {
   "cell_type": "code",
   "execution_count": 24,
   "metadata": {},
   "outputs": [
    {
     "data": {
      "image/png": "[encoded data removed]",
      "text/plain": [
       "<matplotlib.figure.Figure at 0x7f6a4d7b2da0>"
      ]
     },
     "metadata": {},
     "output_type": "display_data"
    }
   ],
   "source": [
    "plt.pie(data.values, labels = ['Female', 'Male'], colors = ['r','b'], autopct='%.2f%%');"
   ]
  },
  {
   "cell_type": "markdown",
   "metadata": {},
   "source": [
    "Now let's see the age distribution between genders"
   ]
  },
  {
   "cell_type": "code",
   "execution_count": 25,
   "metadata": {
    "scrolled": true
   },
   "outputs": [
    {
     "name": "stderr",
     "output_type": "stream",
     "text": [
      "/opt/conda/lib/python3.6/site-packages/ipykernel_launcher.py:1: UserWarning: Boolean Series key will be reindexed to match DataFrame index.\n",
      "  \"\"\"Entry point for launching an IPython kernel.\n"
     ]
    },
    {
     "data": {
      "text/plain": [
       "Age\n",
       "98     3\n",
       "99     1\n",
       "100    2\n",
       "102    2\n",
       "115    2\n",
       "Name: AppointmentID, dtype: int64"
      ]
     },
     "execution_count": 25,
     "metadata": {},
     "output_type": "execute_result"
    }
   ],
   "source": [
    "data_f = df_unique[df.Gender == 'F'].groupby('Age').count()['AppointmentID']\n",
    "data_f.tail()"
   ]
  },
  {
   "cell_type": "markdown",
   "metadata": {},
   "source": [
    "Not all ages are present which is gonna interfere when plotting the distribution. Let's fix this"
   ]
  },
  {
   "cell_type": "code",
   "execution_count": 26,
   "metadata": {
    "scrolled": false
   },
   "outputs": [
    {
     "data": {
      "text/plain": [
       "111    0\n",
       "112    0\n",
       "113    0\n",
       "114    0\n",
       "115    2\n",
       "dtype: int64"
      ]
     },
     "execution_count": 26,
     "metadata": {},
     "output_type": "execute_result"
    }
   ],
   "source": [
    "ind = np.arange(116)\n",
    "list_f = []\n",
    "values_f = []\n",
    "for age in ind:\n",
    "    if age not in data_f.index:\n",
    "        list_f.append(age)\n",
    "        values_f.append(0)\n",
    "data_f = data_f.append(pd.Series(values_f, index = list_f, dtype = int)).sort_index()\n",
    "data_f.tail()"
   ]
  },
  {
   "cell_type": "markdown",
   "metadata": {},
   "source": [
    "Doing the same for males."
   ]
  },
  {
   "cell_type": "code",
   "execution_count": 27,
   "metadata": {},
   "outputs": [
    {
     "name": "stderr",
     "output_type": "stream",
     "text": [
      "/opt/conda/lib/python3.6/site-packages/ipykernel_launcher.py:1: UserWarning: Boolean Series key will be reindexed to match DataFrame index.\n",
      "  \"\"\"Entry point for launching an IPython kernel.\n"
     ]
    }
   ],
   "source": [
    "data_m = df_unique[df.Gender == 'M'].groupby('Age').count()['AppointmentID']\n",
    "list_m = []\n",
    "values_m = []\n",
    "for age in ind:\n",
    "    if age not in data_m.index:\n",
    "        list_m.append(age)\n",
    "        values_m.append(0)\n",
    "data_m = data_m.append(pd.Series(values_m, index = list_m, dtype = int)).sort_index()"
   ]
  },
  {
   "cell_type": "code",
   "execution_count": 28,
   "metadata": {},
   "outputs": [
    {
     "data": {
      "image/png": "[encoded data removed]",
      "text/plain": [
       "<matplotlib.figure.Figure at 0x7f6a4ea79dd8>"
      ]
     },
     "metadata": {
      "needs_background": "light"
     },
     "output_type": "display_data"
    }
   ],
   "source": [
    "plt.figure(figsize=(12,9))\n",
    "plt.bar(ind, data_m, width = 1, color = 'b', alpha = 0.5)\n",
    "plt.bar(ind, data_f, width = 1, color = 'r', alpha = 0.5)\n",
    "plt.legend(['Male', 'Female'])\n",
    "plt.xlabel('Age')\n",
    "plt.ylabel('Patients')\n",
    "plt.title('Age Distribution between Genders');"
   ]
  },
  {
   "cell_type": "markdown",
   "metadata": {},
   "source": [
    "### <a id='q1'></a>Research Question 1: What category of patients is most likely to miss an appointment?"
   ]
  },
  {
   "cell_type": "code",
   "execution_count": 29,
   "metadata": {},
   "outputs": [],
   "source": [
    "def condition_stats(df, condition):\n",
    "    \"\"\"\"\n",
    "    Takes the DataFrame along with a specific condition as arguments.\n",
    "    Returns a Pandas Series with Stats about the numbers of attended and missed appointments.\n",
    "    \"\"\"\n",
    "    counts = df[df[condition] == 1]['Attended'].value_counts()\n",
    "    number_attended = counts[True]\n",
    "    number_missed = counts[False]\n",
    "    percentage = counts[True]/counts.sum()\n",
    "    total = counts.sum()\n",
    "    data = [total, number_attended, number_missed, percentage]\n",
    "    _index = ['Count', 'Attended', 'Missed', 'Attending Percentage']\n",
    "    _series = pd.Series(data, index = _index)\n",
    "    \n",
    "    return _series"
   ]
  },
  {
   "cell_type": "code",
   "execution_count": 30,
   "metadata": {},
   "outputs": [
    {
     "data": {
      "text/plain": [
       "Count                   21801.00000\n",
       "Attended                18029.00000\n",
       "Missed                   3772.00000\n",
       "Attending Percentage        0.82698\n",
       "dtype: float64"
      ]
     },
     "execution_count": 30,
     "metadata": {},
     "output_type": "execute_result"
    }
   ],
   "source": [
    "condition_stats(df, 'Hipertension')"
   ]
  },
  {
   "cell_type": "code",
   "execution_count": 31,
   "metadata": {
    "scrolled": true
   },
   "outputs": [
    {
     "data": {
      "text/plain": [
       "Count                   7943.000000\n",
       "Attended                6513.000000\n",
       "Missed                  1430.000000\n",
       "Attending Percentage       0.819967\n",
       "dtype: float64"
      ]
     },
     "execution_count": 31,
     "metadata": {},
     "output_type": "execute_result"
    }
   ],
   "source": [
    "condition_stats(df, 'Diabetes')"
   ]
  },
  {
   "cell_type": "code",
   "execution_count": 32,
   "metadata": {},
   "outputs": [
    {
     "data": {
      "text/plain": [
       "Count                   3360.000000\n",
       "Attended                2683.000000\n",
       "Missed                   677.000000\n",
       "Attending Percentage       0.798512\n",
       "dtype: float64"
      ]
     },
     "execution_count": 32,
     "metadata": {},
     "output_type": "execute_result"
    }
   ],
   "source": [
    "condition_stats(df, 'Alcoholism')"
   ]
  },
  {
   "cell_type": "code",
   "execution_count": 33,
   "metadata": {
    "scrolled": true
   },
   "outputs": [
    {
     "data": {
      "text/plain": [
       "Count                   2042.000000\n",
       "Attended                1676.000000\n",
       "Missed                   366.000000\n",
       "Attending Percentage       0.820764\n",
       "dtype: float64"
      ]
     },
     "execution_count": 33,
     "metadata": {},
     "output_type": "execute_result"
    }
   ],
   "source": [
    "condition_stats(df, 'Handcap')"
   ]
  },
  {
   "cell_type": "code",
   "execution_count": 34,
   "metadata": {},
   "outputs": [],
   "source": [
    "conditions = ['Hipertension','Diabetes','Alcoholism','Handcap']\n",
    "conditions_percent = []\n",
    "conditions_attended = [] \n",
    "conditions_missed = [] #creating the height arguments for bar charts\n",
    "\n",
    "for condition in conditions:\n",
    "    conditions_attended.append(int(condition_stats(df,condition)['Attended']))\n",
    "    conditions_missed.append(int(condition_stats(df,condition)['Missed']))\n",
    "    conditions_percent.append(condition_stats(df,condition)['Attending Percentage'])"
   ]
  },
  {
   "cell_type": "code",
   "execution_count": 35,
   "metadata": {
    "scrolled": true
   },
   "outputs": [
    {
     "data": {
      "image/png": "[encoded data removed]",
      "text/plain": [
       "<matplotlib.figure.Figure at 0x7f6a4e90ef28>"
      ]
     },
     "metadata": {
      "needs_background": "light"
     },
     "output_type": "display_data"
    }
   ],
   "source": [
    "ind = np.arange(4)\n",
    "width = 0.4\n",
    "plt.bar(ind, conditions_attended, width, color = 'g', label = 'Attended Appointments')\n",
    "plt.bar(ind + width, conditions_missed, width, color = 'r', label = 'Missed Appointments', tick_label = conditions)\n",
    "plt.title('Number of Attended/Missed Appointments by Medical Condition')\n",
    "plt.xlabel('Medical Condition')\n",
    "plt.ylabel('Number of Appointments')\n",
    "locations = ind + width / 2  # xtick locations\n",
    "plt.xticks(locations, conditions)\n",
    "plt.legend();"
   ]
  },
  {
   "cell_type": "markdown",
   "metadata": {},
   "source": [
    "It seems like the most common medical condition of those mentioned in our dataset is Hypertension (21801 appointments of which 18029 attended)."
   ]
  },
  {
   "cell_type": "code",
   "execution_count": 36,
   "metadata": {
    "scrolled": true
   },
   "outputs": [
    {
     "data": {
      "image/png": "[encoded data removed]",
      "text/plain": [
       "<matplotlib.figure.Figure at 0x7f6a4b508978>"
      ]
     },
     "metadata": {
      "needs_background": "light"
     },
     "output_type": "display_data"
    }
   ],
   "source": [
    "locations = [1,2,3,4]\n",
    "heights = [i * 100 for i in conditions_percent]\n",
    "labels = conditions\n",
    "plt.title('Percentage of Attended Appointments by Medical Condition')\n",
    "plt.xlabel('Medical Condition')\n",
    "plt.ylabel('Percentage of Attendance (%)')\n",
    "plt.bar(locations,heights,tick_label = labels);"
   ]
  },
  {
   "cell_type": "markdown",
   "metadata": {},
   "source": [
    "From what I am observing, having a specific medical condition does not affect the likelihood of showing up to a medical appointment. Alcoholism, however is slightly lower in percentage than the other mentioned conditions. "
   ]
  },
  {
   "cell_type": "markdown",
   "metadata": {},
   "source": [
    "### <a id='q2'></a>Research Question 2: Does receiving an SMS increase the likelihood of a patient showing up?"
   ]
  },
  {
   "cell_type": "code",
   "execution_count": 37,
   "metadata": {
    "scrolled": true
   },
   "outputs": [],
   "source": [
    "sms_received = df.query('SMS_received == True')['Attended'].value_counts()\n",
    "sms_not_received = df.query('SMS_received == False')['Attended'].value_counts()"
   ]
  },
  {
   "cell_type": "code",
   "execution_count": 38,
   "metadata": {},
   "outputs": [],
   "source": [
    "sms_percent = sms_received[True]/sms_received.sum()\n",
    "no_sms_percent = sms_not_received[True]/sms_not_received.sum()"
   ]
  },
  {
   "cell_type": "code",
   "execution_count": 39,
   "metadata": {},
   "outputs": [
    {
     "data": {
      "image/png": "[encoded data removed]",
      "text/plain": [
       "<matplotlib.figure.Figure at 0x7f6a4b4c89e8>"
      ]
     },
     "metadata": {
      "needs_background": "light"
     },
     "output_type": "display_data"
    }
   ],
   "source": [
    "locations = [1,2]\n",
    "heights = [no_sms_percent*100, sms_percent*100]\n",
    "labels = ['No SMS', 'Received SMS']\n",
    "plt.title('Percentage of Attended Appointments with and without SMS')\n",
    "plt.ylabel('Percentage of Attendance (%)')\n",
    "plt.bar(locations,heights,tick_label = labels);"
   ]
  },
  {
   "cell_type": "markdown",
   "metadata": {},
   "source": [
    "Looks like patients who received an SMS are **LESS** likely to attend the appointment.\n",
    "This is a strange finding but we shall not draw any conclusions of causation from it. Maybe further investigation can reveal the reason why."
   ]
  },
  {
   "cell_type": "markdown",
   "metadata": {},
   "source": [
    "### <a id='q3'></a>Research Question 3: What age group misses the most appointments?"
   ]
  },
  {
   "cell_type": "code",
   "execution_count": 40,
   "metadata": {
    "scrolled": false
   },
   "outputs": [
    {
     "data": {
      "text/html": [
       "<div>\n",
       "<style scoped>\n",
       "    .dataframe tbody tr th:only-of-type {\n",
       "        vertical-align: middle;\n",
       "    }\n",
       "\n",
       "    .dataframe tbody tr th {\n",
       "        vertical-align: top;\n",
       "    }\n",
       "\n",
       "    .dataframe thead th {\n",
       "        text-align: right;\n",
       "    }\n",
       "</style>\n",
       "<table border=\"1\" class=\"dataframe\">\n",
       "  <thead>\n",
       "    <tr style=\"text-align: right;\">\n",
       "      <th></th>\n",
       "      <th>PatientId</th>\n",
       "      <th>AppointmentID</th>\n",
       "      <th>Gender</th>\n",
       "      <th>Age</th>\n",
       "      <th>Neighbourhood</th>\n",
       "      <th>Scholarship</th>\n",
       "      <th>Hipertension</th>\n",
       "      <th>Diabetes</th>\n",
       "      <th>Alcoholism</th>\n",
       "      <th>Handcap</th>\n",
       "      <th>SMS_received</th>\n",
       "      <th>Attended</th>\n",
       "      <th>AgeGroup</th>\n",
       "    </tr>\n",
       "  </thead>\n",
       "  <tbody>\n",
       "    <tr>\n",
       "      <th>0</th>\n",
       "      <td>2.987250e+13</td>\n",
       "      <td>5642903</td>\n",
       "      <td>F</td>\n",
       "      <td>62</td>\n",
       "      <td>JARDIM DA PENHA</td>\n",
       "      <td>False</td>\n",
       "      <td>1</td>\n",
       "      <td>0</td>\n",
       "      <td>0</td>\n",
       "      <td>0</td>\n",
       "      <td>False</td>\n",
       "      <td>True</td>\n",
       "      <td>&gt;55</td>\n",
       "    </tr>\n",
       "    <tr>\n",
       "      <th>1</th>\n",
       "      <td>5.589978e+14</td>\n",
       "      <td>5642503</td>\n",
       "      <td>M</td>\n",
       "      <td>56</td>\n",
       "      <td>JARDIM DA PENHA</td>\n",
       "      <td>False</td>\n",
       "      <td>0</td>\n",
       "      <td>0</td>\n",
       "      <td>0</td>\n",
       "      <td>0</td>\n",
       "      <td>False</td>\n",
       "      <td>True</td>\n",
       "      <td>&gt;55</td>\n",
       "    </tr>\n",
       "    <tr>\n",
       "      <th>2</th>\n",
       "      <td>4.262962e+12</td>\n",
       "      <td>5642549</td>\n",
       "      <td>F</td>\n",
       "      <td>62</td>\n",
       "      <td>MATA DA PRAIA</td>\n",
       "      <td>False</td>\n",
       "      <td>0</td>\n",
       "      <td>0</td>\n",
       "      <td>0</td>\n",
       "      <td>0</td>\n",
       "      <td>False</td>\n",
       "      <td>True</td>\n",
       "      <td>&gt;55</td>\n",
       "    </tr>\n",
       "    <tr>\n",
       "      <th>3</th>\n",
       "      <td>8.679512e+11</td>\n",
       "      <td>5642828</td>\n",
       "      <td>F</td>\n",
       "      <td>8</td>\n",
       "      <td>PONTAL DE CAMBURI</td>\n",
       "      <td>False</td>\n",
       "      <td>0</td>\n",
       "      <td>0</td>\n",
       "      <td>0</td>\n",
       "      <td>0</td>\n",
       "      <td>False</td>\n",
       "      <td>True</td>\n",
       "      <td>&lt;19</td>\n",
       "    </tr>\n",
       "    <tr>\n",
       "      <th>4</th>\n",
       "      <td>8.841186e+12</td>\n",
       "      <td>5642494</td>\n",
       "      <td>F</td>\n",
       "      <td>56</td>\n",
       "      <td>JARDIM DA PENHA</td>\n",
       "      <td>False</td>\n",
       "      <td>1</td>\n",
       "      <td>1</td>\n",
       "      <td>0</td>\n",
       "      <td>0</td>\n",
       "      <td>False</td>\n",
       "      <td>True</td>\n",
       "      <td>&gt;55</td>\n",
       "    </tr>\n",
       "  </tbody>\n",
       "</table>\n",
       "</div>"
      ],
      "text/plain": [
       "      PatientId  AppointmentID Gender  Age      Neighbourhood  Scholarship  \\\n",
       "0  2.987250e+13        5642903      F   62    JARDIM DA PENHA        False   \n",
       "1  5.589978e+14        5642503      M   56    JARDIM DA PENHA        False   \n",
       "2  4.262962e+12        5642549      F   62      MATA DA PRAIA        False   \n",
       "3  8.679512e+11        5642828      F    8  PONTAL DE CAMBURI        False   \n",
       "4  8.841186e+12        5642494      F   56    JARDIM DA PENHA        False   \n",
       "\n",
       "   Hipertension  Diabetes  Alcoholism  Handcap  SMS_received  Attended  \\\n",
       "0             1         0           0        0         False      True   \n",
       "1             0         0           0        0         False      True   \n",
       "2             0         0           0        0         False      True   \n",
       "3             0         0           0        0         False      True   \n",
       "4             1         1           0        0         False      True   \n",
       "\n",
       "  AgeGroup  \n",
       "0      >55  \n",
       "1      >55  \n",
       "2      >55  \n",
       "3      <19  \n",
       "4      >55  "
      ]
     },
     "execution_count": 40,
     "metadata": {},
     "output_type": "execute_result"
    }
   ],
   "source": [
    "list_separators = df.Age.describe()['min':'max'].tolist()\n",
    "list_ranges = ['<19', '19 to 37', '38 to 55', '>55']\n",
    "df['AgeGroup'] = pd.cut(df['Age'],list_separators, labels = list_ranges)\n",
    "df.head()"
   ]
  },
  {
   "cell_type": "code",
   "execution_count": 41,
   "metadata": {},
   "outputs": [
    {
     "data": {
      "text/plain": [
       "AgeGroup  Attended\n",
       "<19       False        5708\n",
       "          True        19619\n",
       "19 to 37  False        6414\n",
       "          True        20836\n",
       "38 to 55  False        5255\n",
       "          True        21651\n",
       ">55       False        4303\n",
       "          True        23201\n",
       "Name: Age, dtype: int64"
      ]
     },
     "execution_count": 41,
     "metadata": {},
     "output_type": "execute_result"
    }
   ],
   "source": [
    "age_group_counts = df.groupby(['AgeGroup','Attended']).count()['Age']\n",
    "age_group_counts"
   ]
  },
  {
   "cell_type": "code",
   "execution_count": 42,
   "metadata": {},
   "outputs": [
    {
     "data": {
      "text/plain": [
       "AgeGroup\n",
       "<19         25327\n",
       "19 to 37    27250\n",
       "38 to 55    26906\n",
       ">55         27504\n",
       "Name: Age, dtype: int64"
      ]
     },
     "execution_count": 42,
     "metadata": {},
     "output_type": "execute_result"
    }
   ],
   "source": [
    "age_group_totals = df.groupby(['AgeGroup']).count()['Age']\n",
    "age_group_totals"
   ]
  },
  {
   "cell_type": "code",
   "execution_count": 43,
   "metadata": {},
   "outputs": [
    {
     "data": {
      "text/plain": [
       "AgeGroup\n",
       "<19         0.774628\n",
       "19 to 37    0.764624\n",
       "38 to 55    0.804690\n",
       ">55         0.843550\n",
       "Name: Age, dtype: float64"
      ]
     },
     "execution_count": 43,
     "metadata": {},
     "output_type": "execute_result"
    }
   ],
   "source": [
    "age_group_proportion = age_group_counts[:,True]/age_group_totals\n",
    "age_group_proportion"
   ]
  },
  {
   "cell_type": "code",
   "execution_count": 44,
   "metadata": {},
   "outputs": [
    {
     "data": {
      "image/png": "[encoded data removed]",
      "text/plain": [
       "<matplotlib.figure.Figure at 0x7f6a4b3f76d8>"
      ]
     },
     "metadata": {
      "needs_background": "light"
     },
     "output_type": "display_data"
    }
   ],
   "source": [
    "ind = np.arange(4)\n",
    "width = 0.35\n",
    "plt.bar(ind, age_group_counts[:,True].values, width, color = 'g', label = 'Attended Appointments')\n",
    "plt.bar(ind + width, age_group_counts[:,False].values, width, color = 'r', label = 'Missed Appointments')\n",
    "plt.title('Number of Attended/Missed Appointments by Age Group')\n",
    "plt.xlabel('Age Group')\n",
    "plt.ylabel('Number of Appointments')\n",
    "locations = ind + width / 2  # xtick locations\n",
    "plt.xticks(locations, age_group_totals.index)\n",
    "plt.legend();"
   ]
  },
  {
   "cell_type": "code",
   "execution_count": 45,
   "metadata": {},
   "outputs": [
    {
     "data": {
      "image/png": "[encoded data removed]",
      "text/plain": [
       "<matplotlib.figure.Figure at 0x7f6a4b35df28>"
      ]
     },
     "metadata": {
      "needs_background": "light"
     },
     "output_type": "display_data"
    }
   ],
   "source": [
    "locations = [1,2,3,4]\n",
    "heights = (age_group_proportion*100).values\n",
    "labels = age_group_totals.index\n",
    "plt.title('Percentage of Attended Appointments by Age Group')\n",
    "plt.xlabel('Age Group')\n",
    "plt.ylabel('Percentage of Attendance (%)')\n",
    "plt.bar(locations,heights,tick_label = labels);"
   ]
  },
  {
   "cell_type": "markdown",
   "metadata": {},
   "source": [
    "The older we get, the less likely we are to miss our doctor appointments."
   ]
  },
  {
   "cell_type": "markdown",
   "metadata": {},
   "source": [
    "### <a id='q4'></a>Research Question 4: Which neighbourhoods have the most/least attendance rate?"
   ]
  },
  {
   "cell_type": "markdown",
   "metadata": {},
   "source": [
    "Since I am going to study the **percentages** of attendance for each neighbourhood, it is appropriate to only consider the neighboorhoods with relevant amount of entries, which I chose to be a minimum of 500 entries in the given dataset. Any neighbourhoods with less than 500 entries will be filtered out only for the purposes of the current exploration."
   ]
  },
  {
   "cell_type": "code",
   "execution_count": 46,
   "metadata": {},
   "outputs": [
    {
     "data": {
      "text/plain": [
       "54"
      ]
     },
     "execution_count": 46,
     "metadata": {},
     "output_type": "execute_result"
    }
   ],
   "source": [
    "relevant_neighbourhoods = df.groupby('Neighbourhood').count().query('AppointmentID > 500')\n",
    "list_relevant_neighbourhoods = relevant_neighbourhoods.index.tolist()\n",
    "len(list_relevant_neighbourhoods)"
   ]
  },
  {
   "cell_type": "markdown",
   "metadata": {},
   "source": [
    "There is 54 neighbourhoods out of 81 that have more than 500 entries in our dataset."
   ]
  },
  {
   "cell_type": "code",
   "execution_count": 47,
   "metadata": {
    "scrolled": true
   },
   "outputs": [
    {
     "data": {
      "text/plain": [
       "0.9419050721097298"
      ]
     },
     "execution_count": 47,
     "metadata": {},
     "output_type": "execute_result"
    }
   ],
   "source": [
    "df_neighbourhoods = df.query('Neighbourhood == @list_relevant_neighbourhoods')\n",
    "df_neighbourhoods.shape[0]/df.shape[0] "
   ]
  },
  {
   "cell_type": "markdown",
   "metadata": {},
   "source": [
    "The neighbourhoods with more than 500 entries cover more than 94% of our dataset, which is a good represantation of the sample."
   ]
  },
  {
   "cell_type": "code",
   "execution_count": 48,
   "metadata": {},
   "outputs": [
    {
     "data": {
      "text/plain": [
       "Neighbourhood   Attended\n",
       "ANDORINHAS      False        521\n",
       "                True        1741\n",
       "BELA VISTA      False        384\n",
       "                True        1523\n",
       "BENTO FERREIRA  False        193\n",
       "                True         665\n",
       "BONFIM          False        550\n",
       "                True        2223\n",
       "CARATOÍRA       False        591\n",
       "                True        1974\n",
       "CENTRO          False        703\n",
       "                True        2631\n",
       "CONQUISTA       False        160\n",
       "                True         689\n",
       "CONSOLAÇÃO      False        237\n",
       "                True        1139\n",
       "CRUZAMENTO      False        304\n",
       "                True        1094\n",
       "DA PENHA        False        429\n",
       "                True        1788\n",
       "DO CABRAL       False         88\n",
       "                True         472\n",
       "DO QUADRO       False        140\n",
       "                True         709\n",
       "ESTRELINHA      False        106\n",
       "                True         432\n",
       "FONTE GRANDE    False        149\n",
       "                True         533\n",
       "FORTE SÃO JOÃO  False        346\n",
       "                True        1543\n",
       "                            ... \n",
       "RESISTÊNCIA     False        906\n",
       "                True        3525\n",
       "ROMÃO           False        474\n",
       "                True        1740\n",
       "SANTA CLARA     False        134\n",
       "                True         372\n",
       "SANTA MARTHA    False        496\n",
       "                True        2635\n",
       "SANTA TEREZA    False        272\n",
       "                True        1060\n",
       "SANTO ANDRÉ     False        508\n",
       "                True        2063\n",
       "SANTO ANTÔNIO   False        484\n",
       "                True        2262\n",
       "SANTOS DUMONT   False        369\n",
       "                True         907\n",
       "SANTOS REIS     False        112\n",
       "                True         435\n",
       "SÃO BENEDITO    False        287\n",
       "                True        1152\n",
       "SÃO CRISTÓVÃO   False        363\n",
       "                True        1473\n",
       "SÃO JOSÉ        False        428\n",
       "                True        1549\n",
       "SÃO PEDRO       False        515\n",
       "                True        1933\n",
       "TABUAZEIRO      False        573\n",
       "                True        2559\n",
       "VILA RUBIM      False        141\n",
       "                True         710\n",
       "Name: Age, Length: 108, dtype: int64"
      ]
     },
     "execution_count": 48,
     "metadata": {},
     "output_type": "execute_result"
    }
   ],
   "source": [
    "neighbourhood_attendance_counts = df_neighbourhoods.groupby(['Neighbourhood','Attended']).count()['Age']\n",
    "neighbourhood_attendance_counts"
   ]
  },
  {
   "cell_type": "code",
   "execution_count": 49,
   "metadata": {},
   "outputs": [
    {
     "data": {
      "text/plain": [
       "Neighbourhood\n",
       "DO CABRAL              0.842857\n",
       "SANTA MARTHA           0.841584\n",
       "JARDIM DA PENHA        0.837245\n",
       "DO QUADRO              0.835100\n",
       "VILA RUBIM             0.834313\n",
       "MATA DA PRAIA          0.829193\n",
       "REPÚBLICA              0.828743\n",
       "CONSOLAÇÃO             0.827762\n",
       "SANTO ANTÔNIO          0.823744\n",
       "REDENÇÃO               0.822923\n",
       "NOVA PALESTINA         0.822438\n",
       "JABOUR                 0.820247\n",
       "JOANA D´ARC            0.819201\n",
       "TABUAZEIRO             0.817050\n",
       "FORTE SÃO JOÃO         0.816834\n",
       "PRAIA DO CANTO         0.816425\n",
       "CONQUISTA              0.811543\n",
       "JARDIM CAMBURI         0.810159\n",
       "INHANGUETÁ             0.808893\n",
       "ILHA DE SANTA MARIA    0.808488\n",
       "JUCUTUQUARA            0.808357\n",
       "DA PENHA               0.806495\n",
       "GOIABEIRAS             0.804286\n",
       "ESTRELINHA             0.802974\n",
       "SANTO ANDRÉ            0.802412\n",
       "SÃO CRISTÓVÃO          0.802288\n",
       "BONFIM                 0.801659\n",
       "SÃO BENEDITO           0.800556\n",
       "BELA VISTA             0.798637\n",
       "MONTE BELO             0.798544\n",
       "GRANDE VITÓRIA         0.797386\n",
       "SANTA TEREZA           0.795796\n",
       "RESISTÊNCIA            0.795531\n",
       "SANTOS REIS            0.795247\n",
       "MARIA ORTIZ            0.790009\n",
       "SÃO PEDRO              0.789624\n",
       "CENTRO                 0.789142\n",
       "ROMÃO                  0.785908\n",
       "SÃO JOSÉ               0.783510\n",
       "CRUZAMENTO             0.782546\n",
       "FONTE GRANDE           0.781525\n",
       "ILHA DAS CAIEIRAS      0.780579\n",
       "MARUÍPE                0.777077\n",
       "PARQUE MOSCOSO         0.776808\n",
       "BENTO FERREIRA         0.775058\n",
       "GURIGICA               0.774034\n",
       "PRAIA DO SUÁ           0.771739\n",
       "ANDORINHAS             0.769673\n",
       "CARATOÍRA              0.769591\n",
       "ILHA DO PRÍNCIPE       0.765225\n",
       "JESUS DE NAZARETH      0.756046\n",
       "ITARARÉ                0.737336\n",
       "SANTA CLARA            0.735178\n",
       "SANTOS DUMONT          0.710815\n",
       "Name: Age, dtype: float64"
      ]
     },
     "execution_count": 49,
     "metadata": {},
     "output_type": "execute_result"
    }
   ],
   "source": [
    "neighbourhood_attendance_totals = df_neighbourhoods.groupby(['Neighbourhood']).count()['Age']\n",
    "neighbourhood_attendance_proportions = neighbourhood_attendance_counts[:,True]/neighbourhood_attendance_totals\n",
    "neighbourhood_attendance_proportions.sort_values(ascending=False, inplace=True)\n",
    "neighbourhood_attendance_proportions"
   ]
  },
  {
   "cell_type": "code",
   "execution_count": 50,
   "metadata": {},
   "outputs": [
    {
     "data": {
      "text/plain": [
       "Neighbourhood\n",
       "DO CABRAL          0.842857\n",
       "SANTA MARTHA       0.841584\n",
       "JARDIM DA PENHA    0.837245\n",
       "DO QUADRO          0.835100\n",
       "VILA RUBIM         0.834313\n",
       "Name: Age, dtype: float64"
      ]
     },
     "execution_count": 50,
     "metadata": {},
     "output_type": "execute_result"
    }
   ],
   "source": [
    "most_attended_neighbourhoods = neighbourhood_attendance_proportions.head(5)\n",
    "most_attended_neighbourhoods"
   ]
  },
  {
   "cell_type": "code",
   "execution_count": 51,
   "metadata": {},
   "outputs": [
    {
     "data": {
      "text/plain": [
       "Neighbourhood\n",
       "ILHA DO PRÍNCIPE     0.765225\n",
       "JESUS DE NAZARETH    0.756046\n",
       "ITARARÉ              0.737336\n",
       "SANTA CLARA          0.735178\n",
       "SANTOS DUMONT        0.710815\n",
       "Name: Age, dtype: float64"
      ]
     },
     "execution_count": 51,
     "metadata": {},
     "output_type": "execute_result"
    }
   ],
   "source": [
    "least_attended_neighbourhoods = neighbourhood_attendance_proportions.tail(5)\n",
    "least_attended_neighbourhoods"
   ]
  },
  {
   "cell_type": "code",
   "execution_count": 52,
   "metadata": {},
   "outputs": [
    {
     "data": {
      "image/png": "[encoded data removed]",
      "text/plain": [
       "<matplotlib.figure.Figure at 0x7f6a4b2d7cc0>"
      ]
     },
     "metadata": {
      "needs_background": "light"
     },
     "output_type": "display_data"
    }
   ],
   "source": [
    "locations = np.arange(5)*2\n",
    "heights = (most_attended_neighbourhoods*100).values\n",
    "labels = most_attended_neighbourhoods.index\n",
    "plt.figure(figsize=(10, 6))\n",
    "plt.title('Top 5 Neighbourhoods with Most Attendance Rate')\n",
    "plt.xlabel('Neighbourhood')\n",
    "plt.ylabel('Percentage of Attendance (%)')\n",
    "plt.bar(locations,heights,tick_label = labels);"
   ]
  },
  {
   "cell_type": "code",
   "execution_count": 53,
   "metadata": {},
   "outputs": [
    {
     "data": {
      "image/png": "[encoded data removed]",
      "text/plain": [
       "<matplotlib.figure.Figure at 0x7f6a4b2ff860>"
      ]
     },
     "metadata": {
      "needs_background": "light"
     },
     "output_type": "display_data"
    }
   ],
   "source": [
    "locations = np.arange(5)*2\n",
    "heights = (least_attended_neighbourhoods*100).values\n",
    "labels = least_attended_neighbourhoods.index\n",
    "plt.figure(figsize=(10, 6))\n",
    "plt.title('5 Neighbourhoods with Least Attendance Rate')\n",
    "plt.xlabel('Neighbourhood')\n",
    "plt.ylabel('Percentage of Attendance (%)')\n",
    "plt.bar(locations,heights,tick_label = labels, color = 'r');"
   ]
  },
  {
   "cell_type": "markdown",
   "metadata": {},
   "source": [
    "A different approach for evaluating the attendance by neighbourhood is checking for the 10 largest ones. It is evident that we do not have data for the population or area of each neighbourhood but we can make an educated guess that the neighbours with the most entries are probably the largest/most populated."
   ]
  },
  {
   "cell_type": "code",
   "execution_count": 54,
   "metadata": {},
   "outputs": [
    {
     "data": {
      "text/plain": [
       "Neighbourhood\n",
       "JARDIM CAMBURI       7717\n",
       "MARIA ORTIZ          5805\n",
       "RESISTÊNCIA          4431\n",
       "JARDIM DA PENHA      3877\n",
       "ITARARÉ              3514\n",
       "CENTRO               3334\n",
       "TABUAZEIRO           3132\n",
       "SANTA MARTHA         3131\n",
       "JESUS DE NAZARETH    2853\n",
       "BONFIM               2773\n",
       "Name: Attended, dtype: int64"
      ]
     },
     "execution_count": 54,
     "metadata": {},
     "output_type": "execute_result"
    }
   ],
   "source": [
    "#getting a list of the 10 neighboorhoods (out of 81) with the most entries \n",
    "top10_neighbourhoods = df.groupby('Neighbourhood').count().sort_values('Attended',ascending=False).head(10)['Attended']\n",
    "top10_neighbourhoods"
   ]
  },
  {
   "cell_type": "code",
   "execution_count": 55,
   "metadata": {},
   "outputs": [
    {
     "data": {
      "text/plain": [
       "0.3670358105785064"
      ]
     },
     "execution_count": 55,
     "metadata": {},
     "output_type": "execute_result"
    }
   ],
   "source": [
    "list_top10_neighbourhoods = top10_neighbourhoods.index.tolist()\n",
    "df_top10 = df.query('Neighbourhood == @list_top10_neighbourhoods')\n",
    "df_top10.shape[0]/df.shape[0] "
   ]
  },
  {
   "cell_type": "markdown",
   "metadata": {},
   "source": [
    "We now know the top 10 neighboorhoods cover around 37% of the total entries"
   ]
  },
  {
   "cell_type": "code",
   "execution_count": 56,
   "metadata": {
    "scrolled": true
   },
   "outputs": [
    {
     "data": {
      "text/plain": [
       "Neighbourhood\n",
       "JARDIM CAMBURI       0.810159\n",
       "MARIA ORTIZ          0.790009\n",
       "RESISTÊNCIA          0.795531\n",
       "JARDIM DA PENHA      0.837245\n",
       "ITARARÉ              0.737336\n",
       "CENTRO               0.789142\n",
       "TABUAZEIRO           0.817050\n",
       "SANTA MARTHA         0.841584\n",
       "JESUS DE NAZARETH    0.756046\n",
       "BONFIM               0.801659\n",
       "dtype: float64"
      ]
     },
     "execution_count": 56,
     "metadata": {},
     "output_type": "execute_result"
    }
   ],
   "source": [
    "attended = df_top10.groupby(['Neighbourhood','Attended']).count()['Age']\n",
    "attended_percent = (attended[:,True]/top10_neighbourhoods).reindex(list_top10_neighbourhoods)\n",
    "attended_percent"
   ]
  },
  {
   "cell_type": "code",
   "execution_count": 57,
   "metadata": {},
   "outputs": [
    {
     "data": {
      "image/png": "[encoded data removed]",
      "text/plain": [
       "<matplotlib.figure.Figure at 0x7f6a4b3419b0>"
      ]
     },
     "metadata": {
      "needs_background": "light"
     },
     "output_type": "display_data"
    }
   ],
   "source": [
    "locations = np.arange(10)*2\n",
    "heights = (attended_percent*100).values\n",
    "labels = attended_percent.index\n",
    "plt.figure(figsize=(10, 6))\n",
    "plt.title('Largest 10 Neighbourhoods Attendance Rate')\n",
    "plt.ylabel('Percentage of Attendance (%)')\n",
    "plt.bar(locations,heights,tick_label = labels)\n",
    "plt.xticks(rotation = 45);"
   ]
  },
  {
   "cell_type": "markdown",
   "metadata": {},
   "source": [
    "<a id='conclusions'></a>\n",
    "## Conclusions\n",
    "It is observed from our plots and findings that the results are all centered around the 80% mark, meaning around 80% of each of the categories studied attend their medical appointments. I can draw the following conclusions from my analysis:\n",
    "<ul>\n",
    "    <li> Hypertension is a serious and common medical condition in Brazil. Having a specific medical condition however does not increase nor decrease the likelihood of showing up to a medical appointment. (Alcoholics still scored badly though).\n",
    "    <li> Patients older than 55 years are the most likely to attend their medical appointments.\n",
    "    <li> Patients who received an SMS strangely were less likely to attend their appointments. This definitely needs further analysis to figure out why.    \n",
    "    <li> Within the 10 largest neighbourhoods, we find that two with the least attendance rates(JESUS DE NAZARETH & ITARARÉ), along with two with the most attendance rates(JARDIM DA PENHA & SANTA MARTHA) also appear in our Top 5 and Bottom 5 lists of attendance rate. This solidifies my confidence in the findings as there seems to be no correlation between neighbourhood population and their rates of attendance.\n",
    "    \n",
    "</ul>\n",
    "\n",
    "\n",
    "\n",
    "### Limitations\n",
    "One of the limitations in the dataset is the very brief timespan over which the data was gathered. The span is less than 2 month in a single year. There is no way of seeing trends in attendance rate over the years or even study which seasons have the most appointments in them.\n"
   ]
  },
  {
   "cell_type": "code",
   "execution_count": 60,
   "metadata": {},
   "outputs": [
    {
     "data": {
      "text/plain": [
       "0"
      ]
     },
     "execution_count": 60,
     "metadata": {},
     "output_type": "execute_result"
    }
   ],
   "source": [
    "from subprocess import call\n",
    "call(['python', '-m', 'nbconvert', 'Investigate_a_Dataset.ipynb'])"
   ]
  }
 ],
 "metadata": {
  "kernelspec": {
   "display_name": "Python 3",
   "language": "python",
   "name": "python3"
  },
  "language_info": {
   "codemirror_mode": {
    "name": "ipython",
    "version": 3
   },
   "file_extension": ".py",
   "mimetype": "text/x-python",
   "name": "python",
   "nbconvert_exporter": "python",
   "pygments_lexer": "ipython3",
   "version": "3.6.3"
  }
 },
 "nbformat": 4,
 "nbformat_minor": 2
}
